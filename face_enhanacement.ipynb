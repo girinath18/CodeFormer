{
  "nbformat": 4,
  "nbformat_minor": 0,
  "metadata": {
    "colab": {
      "provenance": [],
      "gpuType": "T4",
      "authorship_tag": "ABX9TyMUwYKB2h8YdBpUIKQFyILs",
      "include_colab_link": true
    },
    "kernelspec": {
      "name": "python3",
      "display_name": "Python 3"
    },
    "language_info": {
      "name": "python"
    },
    "accelerator": "GPU"
  },
  "cells": [
    {
      "cell_type": "markdown",
      "metadata": {
        "id": "view-in-github",
        "colab_type": "text"
      },
      "source": [
        "<a href=\"https://colab.research.google.com/github/girinath18/CodeFormer/blob/master/face_enhanacement.ipynb\" target=\"_parent\"><img src=\"https://colab.research.google.com/assets/colab-badge.svg\" alt=\"Open In Colab\"/></a>"
      ]
    },
    {
      "cell_type": "code",
      "source": [
        "from IPython.display import clear_output\n",
        "%cd /content\n",
        "!rm -rf /content/CodeFormer\n",
        "!git clone https://github.com/sczhou/CodeFormer.git\n",
        "%cd /content/CodeFormer\n",
        "!pip install -r /content/CodeFormer/requirements.txt\n",
        "# Install basicsr\n",
        "!python /content/CodeFormer/basicsr/setup.py develop\n",
        "# Download the pre-trained model\n",
        "!python /content/CodeFormer/scripts/download_pretrained_models.py facelib\n",
        "!python /content/CodeFormer/scripts/download_pretrained_models.py CodeFormer\n",
        "clear_output()"
      ],
      "metadata": {
        "id": "0iN5zS044nZB"
      },
      "execution_count": 6,
      "outputs": []
    },
    {
      "cell_type": "code",
      "execution_count": 12,
      "metadata": {
        "colab": {
          "base_uri": "https://localhost:8080/"
        },
        "id": "UAyiISUI4bhZ",
        "outputId": "903e0cfa-1c58-4777-ef15-b24dff5f4791"
      },
      "outputs": [
        {
          "output_type": "stream",
          "name": "stdout",
          "text": [
            "Mounted at /content/gdrive\n",
            "The folder exists.\n"
          ]
        }
      ],
      "source": [
        "from google.colab import drive\n",
        "import os\n",
        "drive.mount(\"/content/gdrive\", force_remount=True)\n",
        "drive_input_folder = \"/content/gdrive/MyDrive/upload\"\n",
        "if os.path.exists(drive_input_folder):\n",
        "    print(\"The folder exists.\")\n",
        "else:\n",
        "    os.mkdir(drive_input_folder)\n",
        "    print(f\"Creating {drive_input_folder} folder\")"
      ]
    },
    {
      "cell_type": "code",
      "source": [
        "#@title Utils { display-mode: \"form\" }\n",
        "\n",
        "\n",
        "# Visualization function\n",
        "import cv2\n",
        "import matplotlib.pyplot as plt\n",
        "import os\n",
        "import shutil\n",
        "def display(img1, img2):\n",
        "  fig = plt.figure(figsize=(25, 10))\n",
        "  ax1 = fig.add_subplot(1, 2, 1)\n",
        "  plt.title('Input', fontsize=16)\n",
        "  ax1.axis('off')\n",
        "  ax2 = fig.add_subplot(1, 2, 2)\n",
        "  plt.title('CodeFormer', fontsize=16)\n",
        "  ax2.axis('off')\n",
        "  ax1.imshow(img1)\n",
        "  ax2.imshow(img2)\n",
        "def imread(img_path):\n",
        "  img = cv2.imread(img_path)\n",
        "  img = cv2.cvtColor(img, cv2.COLOR_BGR2RGB)\n",
        "  return img\n",
        "\n",
        "upload_folder = ('/content/input')\n",
        "if os.path.isdir(upload_folder):\n",
        "    shutil.rmtree(upload_folder)\n",
        "os.mkdir(upload_folder)\n",
        "if os.path.exists(\"/content/output\"):\n",
        "  shutil.rmtree(\"/content/output\")\n",
        "clear_output()"
      ],
      "metadata": {
        "id": "CKHQWctq8n47"
      },
      "execution_count": 17,
      "outputs": []
    },
    {
      "cell_type": "code",
      "source": [
        "from PIL import Image\n",
        "import os\n",
        "import shutil\n",
        "from google.colab import drive\n",
        "import os\n",
        "from google.colab import files\n",
        "keep_images = False\n",
        "upload_folder = ('/content/input')\n",
        "%cd /content/CodeFormer\n",
        "\n",
        "if keep_images:\n",
        "  pass\n",
        "else:\n",
        "  if os.path.isdir(upload_folder):\n",
        "    shutil.rmtree(upload_folder)\n",
        "  os.mkdir(upload_folder)\n",
        "\n",
        "\n",
        "def image_from_drive():\n",
        "  drive.mount('/content/gdrive',force_remount=True)\n",
        "  drive_input_folder = \"/content/input\"\n",
        "  if os.path.exists(drive_input_folder):\n",
        "      print(\"The folder exists.\")\n",
        "  else:\n",
        "      os.mkdir(drive_input_folder)\n",
        "  image_extensions = ['.jpg', '.jpeg', '.png']\n",
        "  for filename in os.listdir(drive_input_folder):\n",
        "    _, extension = os.path.splitext(filename)\n",
        "    if extension.lower() in image_extensions:\n",
        "      drive_image_path=os.path.join(drive_input_folder,filename)\n",
        "      shutil.copy(drive_image_path,upload_folder)\n",
        "def image_from_device():\n",
        "  uploaded = files.upload()\n",
        "  for filename in uploaded.keys():\n",
        "    dst_path = os.path.join(upload_folder, filename)\n",
        "    print(f'move {filename} to {dst_path}')\n",
        "    shutil.move(filename, dst_path)\n",
        "\n",
        "upload_from = \"local device\"\n",
        "if upload_from == \"google drive\":\n",
        "  image_from_drive()\n",
        "if upload_from == \"local device\":\n",
        "  image_from_device()\n",
        "clear_output()\n",
        "file_count = len(os.listdir(upload_folder))\n",
        "if file_count >= 1:\n",
        "    print(\"Run next cell\")\n",
        "else:\n",
        "    print(\"Please upload an image.\")\n"
      ],
      "metadata": {
        "colab": {
          "base_uri": "https://localhost:8080/",
          "height": 107
        },
        "id": "0Xf9RTaM5JOx",
        "outputId": "a470a33e-cfd9-4690-e11b-db38d4a1ea37"
      },
      "execution_count": 18,
      "outputs": [
        {
          "output_type": "stream",
          "name": "stdout",
          "text": [
            "Run next cell\n"
          ]
        }
      ]
    },
    {
      "cell_type": "code",
      "source": [
        "# Inference the uploaded images\n",
        "%cd /content/CodeFormer\n",
        "\n",
        "CODEFORMER_FIDELITY = 0.7\n",
        "\n",
        "BACKGROUND_ENHANCE = True\n",
        "\n",
        "FACE_UPSAMPLE = True\n",
        "if BACKGROUND_ENHANCE:\n",
        "  if FACE_UPSAMPLE:\n",
        "    !python inference_codeformer.py -w $CODEFORMER_FIDELITY --input_path inputs/user_upload --bg_upsampler realesrgan --face_upsample\n",
        "  else:\n",
        "    !python inference_codeformer.py -w $CODEFORMER_FIDELITY --input_path inputs/user_upload --bg_upsampler realesrgan\n",
        "else:\n",
        "  !python inference_codeformer.py -w $CODEFORMER_FIDELITY --input_path inputs/user_upload\n",
        "clear_output()\n",
        "print(f\"All results are saved in /content/output{CODEFORMER_FIDELITY}\")"
      ],
      "metadata": {
        "colab": {
          "base_uri": "https://localhost:8080/"
        },
        "id": "-HCLQV1X5z_J",
        "outputId": "252127ac-a39a-417c-8167-d2c2865622fa"
      },
      "execution_count": 19,
      "outputs": [
        {
          "output_type": "stream",
          "name": "stdout",
          "text": [
            "All results are saved in /content/output0.7\n"
          ]
        }
      ]
    },
    {
      "cell_type": "markdown",
      "source": [],
      "metadata": {
        "id": "7IW8DMCB_DgB"
      }
    },
    {
      "cell_type": "code",
      "source": [
        "\n",
        "save_a_copy_in_google_drive = True\n",
        "if save_a_copy_in_google_drive:\n",
        "  drive.mount('/content/gdrive',force_remount=True)\n",
        "  drive_save_path = '/content/gdrive/MyDrive/CodeFormer_Bulk_Upscale'\n",
        "  if os.path.exists(drive_save_path):\n",
        "    pass\n",
        "  else:\n",
        "    os.mkdir(drive_save_path)\n",
        "  clear_output()\n",
        "  print(f\"All images/zip file save at : {drive_save_path}\")\n",
        "\n",
        "import os\n",
        "import uuid\n",
        "from google.colab import files\n",
        "import shutil\n",
        "def download_single_images():\n",
        "  global CODEFORMER_FIDELITY\n",
        "  download_folder = '/content/download'\n",
        "  if os.path.exists(download_folder):\n",
        "      os.system(f'rm -rf {download_folder}')\n",
        "  os.makedirs(download_folder)\n",
        "  folder_path = f\"/content/CodeFormer/results/user_upload_{CODEFORMER_FIDELITY}/final_results\"\n",
        "  for filename in os.listdir(folder_path):\n",
        "      original_path = os.path.join(folder_path, filename)\n",
        "      name, extension = os.path.splitext(filename)\n",
        "      random_string = str(uuid.uuid4())[:8]\n",
        "      new_filename = f\"{name}_{random_string}{extension}\"\n",
        "      download_path = f\"/content/download/{new_filename}\"\n",
        "      if save_a_copy_in_google_drive:\n",
        "        drive_path=f\"{drive_save_path}/{new_filename}\"\n",
        "        shutil.copy(original_path, drive_path)\n",
        "      shutil.copy(original_path, download_path)\n",
        "\n",
        "      files.download(download_path)\n",
        "def download_zip():\n",
        "  global CODEFORMER_FIDELITY\n",
        "  random_string = str(uuid.uuid4())[:5]\n",
        "  zip_file_name=f\"results_{random_string}.zip\"\n",
        "  var1=os.system(f'zip -r {zip_file_name} results/user_upload_{CODEFORMER_FIDELITY}/final_results')\n",
        "  if save_a_copy_in_google_drive:\n",
        "    sour=f\"/content/CodeFormer/{zip_file_name}\"\n",
        "    dest=f\"{drive_save_path}/{zip_file_name}\"\n",
        "    shutil.copy(sour, dest)\n",
        "\n",
        "  files.download(zip_file_name)\n",
        "\n",
        "\n",
        "\n",
        "folder_path = f\"/content/CodeFormer/results/user_upload_{CODEFORMER_FIDELITY}/final_results\"\n",
        "image_extensions = ['.jpg', '.jpeg', '.png', '.gif', '.bmp']  # Add more extensions if needed\n",
        "contains_image = False\n",
        "for filename in os.listdir(folder_path):\n",
        "    _, extension = os.path.splitext(filename)\n",
        "    if extension.lower() in image_extensions:\n",
        "        contains_image = True\n",
        "        break\n",
        "download_format = \"zip\"\n",
        "  if download_format == \"single file\":\n",
        "    download_single_images()\n",
        "  if download_format == \"zip\":\n",
        "    download_zip()\n",
        "else:\n",
        "  print(f\"The folder '{folder_path}' does not contain any image files.\")\n"
      ],
      "metadata": {
        "colab": {
          "base_uri": "https://localhost:8080/",
          "height": 106
        },
        "id": "bcdJm5FB8QFa",
        "outputId": "d7cbecde-3a20-497a-f531-a91de9ec96b3"
      },
      "execution_count": 5,
      "outputs": [
        {
          "output_type": "error",
          "ename": "IndentationError",
          "evalue": "unexpected indent (<ipython-input-5-10595a1c01dd>, line 58)",
          "traceback": [
            "\u001b[0;36m  File \u001b[0;32m\"<ipython-input-5-10595a1c01dd>\"\u001b[0;36m, line \u001b[0;32m58\u001b[0m\n\u001b[0;31m    if download_format == \"single file\":\u001b[0m\n\u001b[0m    ^\u001b[0m\n\u001b[0;31mIndentationError\u001b[0m\u001b[0;31m:\u001b[0m unexpected indent\n"
          ]
        }
      ]
    },
    {
      "cell_type": "code",
      "source": [],
      "metadata": {
        "id": "fB13D-md55-J"
      },
      "execution_count": null,
      "outputs": []
    },
    {
      "cell_type": "markdown",
      "source": [
        "# **maded as the single script**"
      ],
      "metadata": {
        "id": "07E3WfwiArKW"
      }
    },
    {
      "cell_type": "code",
      "source": [
        "# Required Libraries\n",
        "import os\n",
        "import shutil\n",
        "import cv2\n",
        "import matplotlib.pyplot as plt\n",
        "from google.colab import files\n",
        "\n",
        "# Visualization Function\n",
        "def display(img1, img2):\n",
        "    fig = plt.figure(figsize=(25, 10))\n",
        "    ax1 = fig.add_subplot(1, 2, 1)\n",
        "    plt.title('Input', fontsize=16)\n",
        "    ax1.axis('off')\n",
        "    ax2 = fig.add_subplot(1, 2, 2)\n",
        "    plt.title('CodeFormer', fontsize=16)\n",
        "    ax2.axis('off')\n",
        "    ax1.imshow(img1)\n",
        "    ax2.imshow(img2)\n",
        "\n",
        "def imread(img_path):\n",
        "    img = cv2.imread(img_path)\n",
        "    if img is None:\n",
        "        raise FileNotFoundError(f\"Image file not found at {img_path}\")\n",
        "    img = cv2.cvtColor(img, cv2.COLOR_BGR2RGB)\n",
        "    return img\n",
        "\n",
        "# Paths\n",
        "input_folder = '/content/input'\n",
        "output_folder = '/content/output_bots'\n",
        "codeformer_path = '/content/CodeFormer'\n",
        "\n",
        "# Clean up previous runs\n",
        "if os.path.isdir(input_folder):\n",
        "    shutil.rmtree(input_folder)\n",
        "os.mkdir(input_folder)\n",
        "if os.path.exists(output_folder):\n",
        "    shutil.rmtree(output_folder)\n",
        "os.mkdir(output_folder)\n",
        "\n",
        "# Image Upload\n",
        "def image_from_device():\n",
        "    uploaded = files.upload()\n",
        "    for filename in uploaded.keys():\n",
        "        dst_path = os.path.join(input_folder, filename)\n",
        "        print(f'Move {filename} to {dst_path}')\n",
        "        shutil.move(filename, dst_path)\n",
        "\n",
        "# Execute Image Upload\n",
        "image_from_device()\n",
        "clear_output()\n",
        "file_count = len(os.listdir(input_folder))\n",
        "if file_count >= 1:\n",
        "    print(\"Run next cell\")\n",
        "else:\n",
        "    print(\"Please upload an image.\")\n",
        "\n",
        "# Inference the uploaded images\n",
        "os.chdir(codeformer_path)\n",
        "\n",
        "CODEFORMER_FIDELITY = 0.7\n",
        "BACKGROUND_ENHANCE = True\n",
        "FACE_UPSAMPLE = True\n",
        "\n",
        "# Running the inference and saving outputs in specified output folder\n",
        "command = f'python inference_codeformer.py -w {CODEFORMER_FIDELITY} --input_path {input_folder} --output_path {output_folder}'\n",
        "if BACKGROUND_ENHANCE:\n",
        "    command += ' --bg_upsampler realesrgan'\n",
        "if FACE_UPSAMPLE:\n",
        "    command += ' --face_upsample'\n",
        "\n",
        "os.system(command)\n",
        "\n",
        "# Debugging information to verify the output\n",
        "print(f\"All results are saved in {output_folder}\")\n",
        "output_files = os.listdir(output_folder)\n",
        "print(f\"Files in output folder: {output_files}\")\n",
        "\n",
        "# Check if output folder contains any images\n",
        "if not output_files:\n",
        "    raise FileNotFoundError(f\"No output images found in {output_folder}\")\n",
        "\n",
        "# Display Results\n",
        "input_image_path = os.path.join(input_folder, os.listdir(input_folder)[0])\n",
        "output_image_path = os.path.join(output_folder, output_files[0])\n",
        "\n",
        "print(f\"Input image path: {input_image_path}\")\n",
        "print(f\"Output image path: {output_image_path}\")\n",
        "\n",
        "input_image = imread(input_image_path)\n",
        "output_image = imread(output_image_path)\n",
        "display(input_image, output_image)\n"
      ],
      "metadata": {
        "id": "g9BoeBF6AwuY"
      },
      "execution_count": null,
      "outputs": []
    },
    {
      "cell_type": "code",
      "source": [
        "# Required Libraries\n",
        "import os\n",
        "import shutil\n",
        "import cv2\n",
        "import matplotlib.pyplot as plt\n",
        "from google.colab import files\n",
        "\n",
        "# Visualization Function\n",
        "def display(img1, img2):\n",
        "    fig = plt.figure(figsize=(25, 10))\n",
        "    ax1 = fig.add_subplot(1, 2, 1)\n",
        "    plt.title('Input', fontsize=16)\n",
        "    ax1.axis('off')\n",
        "    ax2 = fig.add_subplot(1, 2, 2)\n",
        "    plt.title('CodeFormer', fontsize=16)\n",
        "    ax2.axis('off')\n",
        "    ax1.imshow(img1)\n",
        "    ax2.imshow(img2)\n",
        "\n",
        "def imread(img_path):\n",
        "    img = cv2.imread(img_path)\n",
        "    if img is None:\n",
        "        raise FileNotFoundError(f\"Image file not found at {img_path}\")\n",
        "    img = cv2.cvtColor(img, cv2.COLOR_BGR2RGB)\n",
        "    return img\n",
        "\n",
        "# Paths\n",
        "input_folder = '/content/input'\n",
        "output_folder = '/content/output_bots'\n",
        "codeformer_path = '/content/CodeFormer'\n",
        "\n",
        "# Clean up previous runs\n",
        "if os.path.isdir(input_folder):\n",
        "    shutil.rmtree(input_folder)\n",
        "os.mkdir(input_folder)\n",
        "if os.path.exists(output_folder):\n",
        "    shutil.rmtree(output_folder)\n",
        "os.mkdir(output_folder)\n",
        "\n",
        "# Image Upload\n",
        "def image_from_device():\n",
        "    uploaded = files.upload()\n",
        "    for filename in uploaded.keys():\n",
        "        dst_path = os.path.join(input_folder, filename)\n",
        "        print(f'Move {filename} to {dst_path}')\n",
        "        shutil.move(filename, dst_path)\n",
        "\n",
        "# Execute Image Upload\n",
        "image_from_device()\n",
        "clear_output()\n",
        "file_count = len(os.listdir(input_folder))\n",
        "if file_count >= 1:\n",
        "    print(\"Run next cell\")\n",
        "else:\n",
        "    print(\"Please upload an image.\")\n",
        "\n",
        "# Inference the uploaded images\n",
        "os.chdir(codeformer_path)\n",
        "\n",
        "CODEFORMER_FIDELITY = 0.7\n",
        "BACKGROUND_ENHANCE = True\n",
        "FACE_UPSAMPLE = True\n",
        "\n",
        "# Running the inference and saving outputs in specified output folder\n",
        "command = f'python inference_codeformer.py -w {CODEFORMER_FIDELITY} --input_path {input_folder} --output_path {output_folder}'\n",
        "if BACKGROUND_ENHANCE:\n",
        "    command += ' --bg_upsampler realesrgan'\n",
        "if FACE_UPSAMPLE:\n",
        "    command += ' --face_upsample'\n",
        "\n",
        "os.system(command)\n",
        "\n",
        "# Debugging information to verify the output\n",
        "print(f\"All results are saved in {output_folder}\")\n",
        "output_files = os.listdir(output_folder)\n",
        "print(f\"Files in output folder: {output_files}\")\n",
        "\n",
        "# Check if output folder contains any images\n",
        "final_results_folder = os.path.join(output_folder, 'final_results')\n",
        "if not os.path.exists(final_results_folder):\n",
        "    raise FileNotFoundError(f\"No final_results folder found in {output_folder}\")\n",
        "\n",
        "final_results_files = os.listdir(final_results_folder)\n",
        "if not final_results_files:\n",
        "    raise FileNotFoundError(f\"No output images found in {final_results_folder}\")\n",
        "\n",
        "# Display Results\n",
        "input_image_path = os.path.join(input_folder, os.listdir(input_folder)[0])\n",
        "output_image_path = os.path.join(final_results_folder, final_results_files[0])\n",
        "\n",
        "print(f\"Input image path: {input_image_path}\")\n",
        "print(f\"Output image path: {output_image_path}\")\n",
        "\n",
        "input_image = imread(input_image_path)\n",
        "output_image = imread(output_image_path)\n",
        "display(input_image, output_image)\n"
      ],
      "metadata": {
        "collapsed": true,
        "id": "Hn0wIGV2D5uc"
      },
      "execution_count": null,
      "outputs": []
    }
  ]
}